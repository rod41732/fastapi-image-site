{
 "cells": [
  {
   "cell_type": "code",
   "execution_count": 1,
   "metadata": {},
   "outputs": [
    {
     "name": "stdout",
     "output_type": "stream",
     "text": [
      "CWD: /home/road/Documents/workspace/personal/fastapi-image-site\n"
     ]
    }
   ],
   "source": [
    "import os\n",
    "import sys\n",
    "\n",
    "\n",
    "cwd = os.getcwd()\n",
    "print(\"CWD:\", cwd)\n",
    "sys.path.append(cwd)"
   ]
  },
  {
   "cell_type": "code",
   "execution_count": 2,
   "metadata": {},
   "outputs": [],
   "source": [
    "from app.models import *\n",
    "from libs.db import *   "
   ]
  },
  {
   "cell_type": "code",
   "execution_count": 12,
   "metadata": {},
   "outputs": [
    {
     "name": "stdout",
     "output_type": "stream",
     "text": [
      "--- exist artwork EXISTS (SELECT 1 \n",
      "FROM userfavoriteartwork)\n",
      "--- count 3\n"
     ]
    },
    {
     "name": "stderr",
     "output_type": "stream",
     "text": [
      "/tmp/ipykernel_5706/4102544479.py:5: DeprecationWarning: \n",
      "        🚨 You probably want to use `session.exec()` instead of `session.query()`.\n",
      "\n",
      "        `session.exec()` is SQLModel's own short version with increased type\n",
      "        annotations.\n",
      "\n",
      "        Or otherwise you might want to use `session.execute()` instead of\n",
      "        `session.query()`.\n",
      "        \n",
      "  print(\"--- exist artwork\", session.query(\n",
      "/tmp/ipykernel_5706/4102544479.py:9: DeprecationWarning: \n",
      "        🚨 You probably want to use `session.exec()` instead of `session.query()`.\n",
      "\n",
      "        `session.exec()` is SQLModel's own short version with increased type\n",
      "        annotations.\n",
      "\n",
      "        Or otherwise you might want to use `session.execute()` instead of\n",
      "        `session.query()`.\n",
      "        \n",
      "  print(\"--- count\", session.query(User).where(\n"
     ]
    }
   ],
   "source": [
    "from sqlmodel import select\n",
    "\n",
    "session = Session(engine)\n",
    "\n",
    "print(\"--- exist artwork\", session.query(\n",
    "    select(UserFavoriteArtwork).exists()\n",
    ").scalar())\n",
    "print(\"--- count\", session.query(User).where(\n",
    "    ).count())\n"
   ]
  },
  {
   "cell_type": "code",
   "execution_count": 14,
   "metadata": {},
   "outputs": [
    {
     "ename": "AttributeError",
     "evalue": "Neither 'Exists' object nor 'Comparator' object has an attribute 'as_scalar'",
     "output_type": "error",
     "traceback": [
      "\u001b[0;31m---------------------------------------------------------------------------\u001b[0m",
      "\u001b[0;31mAttributeError\u001b[0m                            Traceback (most recent call last)",
      "File \u001b[0;32m~/.cache/pypoetry/virtualenvs/fastapi-image-site-ttMo-O8p-py3.12/lib/python3.12/site-packages/sqlalchemy/sql/elements.py:1496\u001b[0m, in \u001b[0;36mColumnElement.__getattr__\u001b[0;34m(self, key)\u001b[0m\n\u001b[1;32m   1495\u001b[0m \u001b[38;5;28;01mtry\u001b[39;00m:\n\u001b[0;32m-> 1496\u001b[0m     \u001b[38;5;28;01mreturn\u001b[39;00m \u001b[38;5;28;43mgetattr\u001b[39;49m\u001b[43m(\u001b[49m\u001b[38;5;28;43mself\u001b[39;49m\u001b[38;5;241;43m.\u001b[39;49m\u001b[43mcomparator\u001b[49m\u001b[43m,\u001b[49m\u001b[43m \u001b[49m\u001b[43mkey\u001b[49m\u001b[43m)\u001b[49m\n\u001b[1;32m   1497\u001b[0m \u001b[38;5;28;01mexcept\u001b[39;00m \u001b[38;5;167;01mAttributeError\u001b[39;00m \u001b[38;5;28;01mas\u001b[39;00m err:\n",
      "\u001b[0;31mAttributeError\u001b[0m: 'Comparator' object has no attribute 'as_scalar'",
      "\nThe above exception was the direct cause of the following exception:\n",
      "\u001b[0;31mAttributeError\u001b[0m                            Traceback (most recent call last)",
      "Cell \u001b[0;32mIn[14], line 2\u001b[0m\n\u001b[1;32m      1\u001b[0m \u001b[38;5;28mprint\u001b[39m(\u001b[38;5;124m\"\u001b[39m\u001b[38;5;124m--- exist artwork\u001b[39m\u001b[38;5;124m\"\u001b[39m, session\u001b[38;5;241m.\u001b[39mexec(\n\u001b[0;32m----> 2\u001b[0m     \u001b[43mselect\u001b[49m\u001b[43m(\u001b[49m\u001b[43mUserFavoriteArtwork\u001b[49m\u001b[43m)\u001b[49m\u001b[38;5;241;43m.\u001b[39;49m\u001b[43mexists\u001b[49m\u001b[43m(\u001b[49m\u001b[43m)\u001b[49m\u001b[38;5;241;43m.\u001b[39;49m\u001b[43mas_scalar\u001b[49m()\n\u001b[1;32m      3\u001b[0m ))\n",
      "File \u001b[0;32m~/.cache/pypoetry/virtualenvs/fastapi-image-site-ttMo-O8p-py3.12/lib/python3.12/site-packages/sqlalchemy/sql/elements.py:1498\u001b[0m, in \u001b[0;36mColumnElement.__getattr__\u001b[0;34m(self, key)\u001b[0m\n\u001b[1;32m   1496\u001b[0m     \u001b[38;5;28;01mreturn\u001b[39;00m \u001b[38;5;28mgetattr\u001b[39m(\u001b[38;5;28mself\u001b[39m\u001b[38;5;241m.\u001b[39mcomparator, key)\n\u001b[1;32m   1497\u001b[0m \u001b[38;5;28;01mexcept\u001b[39;00m \u001b[38;5;167;01mAttributeError\u001b[39;00m \u001b[38;5;28;01mas\u001b[39;00m err:\n\u001b[0;32m-> 1498\u001b[0m     \u001b[38;5;28;01mraise\u001b[39;00m \u001b[38;5;167;01mAttributeError\u001b[39;00m(\n\u001b[1;32m   1499\u001b[0m         \u001b[38;5;124m\"\u001b[39m\u001b[38;5;124mNeither \u001b[39m\u001b[38;5;132;01m%r\u001b[39;00m\u001b[38;5;124m object nor \u001b[39m\u001b[38;5;132;01m%r\u001b[39;00m\u001b[38;5;124m object has an attribute \u001b[39m\u001b[38;5;132;01m%r\u001b[39;00m\u001b[38;5;124m\"\u001b[39m\n\u001b[1;32m   1500\u001b[0m         \u001b[38;5;241m%\u001b[39m (\n\u001b[1;32m   1501\u001b[0m             \u001b[38;5;28mtype\u001b[39m(\u001b[38;5;28mself\u001b[39m)\u001b[38;5;241m.\u001b[39m\u001b[38;5;18m__name__\u001b[39m,\n\u001b[1;32m   1502\u001b[0m             \u001b[38;5;28mtype\u001b[39m(\u001b[38;5;28mself\u001b[39m\u001b[38;5;241m.\u001b[39mcomparator)\u001b[38;5;241m.\u001b[39m\u001b[38;5;18m__name__\u001b[39m,\n\u001b[1;32m   1503\u001b[0m             key,\n\u001b[1;32m   1504\u001b[0m         )\n\u001b[1;32m   1505\u001b[0m     ) \u001b[38;5;28;01mfrom\u001b[39;00m \u001b[38;5;21;01merr\u001b[39;00m\n",
      "\u001b[0;31mAttributeError\u001b[0m: Neither 'Exists' object nor 'Comparator' object has an attribute 'as_scalar'"
     ]
    }
   ],
   "source": [
    "# print(\"--- exist artwork\", session.exec(\n",
    "#     select(UserFavoriteArtwork).exists()\n",
    "# ))"
   ]
  },
  {
   "cell_type": "code",
   "execution_count": null,
   "metadata": {},
   "outputs": [],
   "source": []
  }
 ],
 "metadata": {
  "kernelspec": {
   "display_name": "fastapi-image-site-ttMo-O8p-py3.12",
   "language": "python",
   "name": "python3"
  },
  "language_info": {
   "codemirror_mode": {
    "name": "ipython",
    "version": 3
   },
   "file_extension": ".py",
   "mimetype": "text/x-python",
   "name": "python",
   "nbconvert_exporter": "python",
   "pygments_lexer": "ipython3",
   "version": "3.12.7"
  }
 },
 "nbformat": 4,
 "nbformat_minor": 2
}
